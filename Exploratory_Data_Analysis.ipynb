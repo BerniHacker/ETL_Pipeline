{
 "cells": [
  {
   "cell_type": "markdown",
   "metadata": {},
   "source": [
    "# ETL Pipeline"
   ]
  },
  {
   "cell_type": "markdown",
   "metadata": {},
   "source": [
    "__Bernardo Di Chiara__\n",
    "\n",
    "_March 6<sup>st</sup>, 2020_"
   ]
  },
  {
   "cell_type": "markdown",
   "metadata": {},
   "source": [
    "## Table of contents\n",
    "[1. Exploratory Data Analysys](#1.)<br>\n",
    "<font color='white'>....</font>[1.1. Importing the Needed Packages](#1.1.)<br>\n",
    "<font color='white'>....</font>[1.2. Defining the Used Functions](#1.2.)<br>\n",
    "<font color='white'>....</font>[1.3. Examining the Input Data](#1.3.)<br>\n",
    "<font color='white'>....</font>[1.4. Fetching Some Aggregate Values Useful for Testing](#1.4.)<br>\n",
    "<font color='white'>....</font>[1.5. Conclusions](#1.5.)<br>"
   ]
  },
  {
   "cell_type": "markdown",
   "metadata": {},
   "source": [
    "## 1. Exploratory Data Analysis <a name=\"1.\"></a>"
   ]
  },
  {
   "cell_type": "markdown",
   "metadata": {},
   "source": [
    "### 1.1. Importing the Needed Packages <a name=\"1.1.\"></a>"
   ]
  },
  {
   "cell_type": "code",
   "execution_count": 1,
   "metadata": {},
   "outputs": [],
   "source": [
    "import datetime\n",
    "import pandas as pd\n",
    "import numpy as np"
   ]
  },
  {
   "cell_type": "markdown",
   "metadata": {},
   "source": [
    "### 1.2. Defining the Used Functions <a name=\"1.2.\"></a>"
   ]
  },
  {
   "cell_type": "code",
   "execution_count": 2,
   "metadata": {},
   "outputs": [],
   "source": [
    "def CSV_to_Pandas(filename, dfname, consolle=False):\n",
    "    # This function reads data from a CSV file, converts the data into dataframe \n",
    "    # format and returns the dataframe.\n",
    "    # The function needs as input parameters: the file name in string format,\n",
    "    # the dataframe name in string format and optionally indication if to provide\n",
    "    # consolle feedback (boolean).\n",
    "    \n",
    "    import pandas as pd\n",
    "    \n",
    "    # Importing data from a CSV file and converting it into a Pandas dataframe\n",
    "    if consolle:\n",
    "        print (\"Loading data ... (it might take a while)\\n\")\n",
    "    dfname = pd.read_csv(filename)\n",
    "    return dfname"
   ]
  },
  {
   "cell_type": "code",
   "execution_count": 3,
   "metadata": {},
   "outputs": [],
   "source": [
    "def df_basic_data(dfname, showcontent=False):\n",
    "    # This function prints basic information about a given dataframe.\n",
    "    # The function needs as input parameters: the dataframe name in string format\n",
    "    # and optionally an indication if to show some dataframe contents (boolean).\n",
    "    \n",
    "    import pandas as pd\n",
    "    \n",
    "    # Printing dataframe basic data\n",
    "    print (\"Dataframe length:\", len(dfname), \"\\n\")\n",
    "    print (\"Dataframe columns names and data types:\")\n",
    "    print (dfname.dtypes.to_string(), \"\\n\")\n",
    "    if showcontent == True:\n",
    "        print (\"Visualizing the content of the first 5 rows:\")\n",
    "        print (dfname.head(), \"\\n\")\n",
    "    # Checking the number of NaN entries for each column\n",
    "    print (\"Amount of NaN entries for each column:\")\n",
    "    print (dfname.isna().sum().to_string(), \"\\n\")"
   ]
  },
  {
   "cell_type": "code",
   "execution_count": 4,
   "metadata": {},
   "outputs": [],
   "source": [
    "def show_value_counts(dfname, *omitted_column):\n",
    "    # This function shows the amount of occurrencies of each single value \n",
    "    # of each column of a defined dataframe\n",
    "    # The function is useful for dataframes which have categorical variables\n",
    "    # The function requires the dataframe name as a mandatory parameter\n",
    "    # It is possible to insert one or more columns to be omitted from the calculation\n",
    "    \n",
    "    import pandas as pd\n",
    "\n",
    "    for column in dfname.columns:\n",
    "        if column not in omitted_column:\n",
    "            print(\"column name: \", column)\n",
    "            print(\"column datatype: \", dfname[column].dtypes)\n",
    "            print(\"values count:\")\n",
    "            print(dfname[column].value_counts().to_string(), \"\\n\")"
   ]
  },
  {
   "cell_type": "code",
   "execution_count": 5,
   "metadata": {},
   "outputs": [],
   "source": [
    "def visualize_df(dfname, batch_size=50):\n",
    "    # This function allows visualizing the full content of a dataframe in chunks \n",
    "    # by using user's input\n",
    "    # The dataframe name is a mandatory input parameter\n",
    "    # The batch_size is by default 50 entries and can be changed when calling the function\n",
    "    \n",
    "    import pandas as pd\n",
    "\n",
    "    i = 0\n",
    "    while i < len(dfname):\n",
    "        print(\"\\nHandling entries from {} to {}\".format(i, i+batch_size))\n",
    "        vis_df = complete_df[i:i+batch_size]\n",
    "        i += batch_size\n",
    "        print (vis_df)\n",
    "        try:\n",
    "            userid = int(input(\"Enter '1' if you want to see more entries\\n\"\n",
    "                               \"Type any other (or no key at all) and then press Enter to quit\\n\"))\n",
    "            if userid != 1:\n",
    "                break\n",
    "        except:\n",
    "            break"
   ]
  },
  {
   "cell_type": "code",
   "execution_count": 6,
   "metadata": {},
   "outputs": [],
   "source": [
    "def date_generator(start_date, end_date):\n",
    "    # This function takes as an input a start date and an end date in string format\n",
    "    # and returns a list of dates contained between the two provided dates\n",
    "    # The dates shall be in the fpormat dd-mm-yyyy\n",
    "    \n",
    "    import datetime\n",
    "\n",
    "    start_d = datetime.datetime.strptime(start_date, \"%d-%m-%Y\")\n",
    "    end_d = datetime.datetime.strptime(end_date, \"%d-%m-%Y\")\n",
    "    # Creating a list of dates from the start day to the end day\n",
    "    gener_dates = [start_d + datetime.timedelta(days=x) for x in range(0, (end_d-start_d).days+1)] \n",
    "    # Extracting the dates\n",
    "    dates = []\n",
    "    for date in gener_dates:\n",
    "        dates.append(date.strftime(\"%Y-%m-%d\"))\n",
    "    return dates"
   ]
  },
  {
   "cell_type": "markdown",
   "metadata": {},
   "source": [
    "### 1.3. Examining the Input Data <a name=\"1.3.\"></a>"
   ]
  },
  {
   "cell_type": "markdown",
   "metadata": {},
   "source": [
    "The testing data consists of CSV files for each day from July 1st to December 12th 2018 (165 files). The file names are in the format yyyy-mm-dd.csv (where yyyy is 2018, mm is the month and dd is the day). No file is missing and the file names are correct and consistent."
   ]
  },
  {
   "cell_type": "code",
   "execution_count": 7,
   "metadata": {},
   "outputs": [
    {
     "name": "stdout",
     "output_type": "stream",
     "text": [
      "Loading data ... (it might take a while)\n",
      "\n"
     ]
    }
   ],
   "source": [
    "# Fetching the first CSV file\n",
    "df_2018_07_01 = CSV_to_Pandas('data/2018-07-01.csv', 'df_2018_07_01', True)"
   ]
  },
  {
   "cell_type": "code",
   "execution_count": 8,
   "metadata": {},
   "outputs": [
    {
     "name": "stdout",
     "output_type": "stream",
     "text": [
      "Dataframe length: 10 \n",
      "\n",
      "Dataframe columns names and data types:\n",
      "temperature      object\n",
      "skipped_beat    float64\n",
      "at_risk           int64 \n",
      "\n",
      "Amount of NaN entries for each column:\n",
      "temperature     0\n",
      "skipped_beat    1\n",
      "at_risk         0 \n",
      "\n"
     ]
    },
    {
     "data": {
      "text/html": [
       "<div>\n",
       "<style scoped>\n",
       "    .dataframe tbody tr th:only-of-type {\n",
       "        vertical-align: middle;\n",
       "    }\n",
       "\n",
       "    .dataframe tbody tr th {\n",
       "        vertical-align: top;\n",
       "    }\n",
       "\n",
       "    .dataframe thead th {\n",
       "        text-align: right;\n",
       "    }\n",
       "</style>\n",
       "<table border=\"1\" class=\"dataframe\">\n",
       "  <thead>\n",
       "    <tr style=\"text-align: right;\">\n",
       "      <th></th>\n",
       "      <th>temperature</th>\n",
       "      <th>skipped_beat</th>\n",
       "      <th>at_risk</th>\n",
       "    </tr>\n",
       "  </thead>\n",
       "  <tbody>\n",
       "    <tr>\n",
       "      <th>0</th>\n",
       "      <td>LOW</td>\n",
       "      <td>NaN</td>\n",
       "      <td>1</td>\n",
       "    </tr>\n",
       "    <tr>\n",
       "      <th>1</th>\n",
       "      <td>HIGH</td>\n",
       "      <td>1.0</td>\n",
       "      <td>1</td>\n",
       "    </tr>\n",
       "    <tr>\n",
       "      <th>2</th>\n",
       "      <td>HIGH</td>\n",
       "      <td>2.0</td>\n",
       "      <td>1</td>\n",
       "    </tr>\n",
       "    <tr>\n",
       "      <th>3</th>\n",
       "      <td>LOW</td>\n",
       "      <td>1.0</td>\n",
       "      <td>1</td>\n",
       "    </tr>\n",
       "    <tr>\n",
       "      <th>4</th>\n",
       "      <td>HIGH</td>\n",
       "      <td>0.0</td>\n",
       "      <td>0</td>\n",
       "    </tr>\n",
       "    <tr>\n",
       "      <th>5</th>\n",
       "      <td>HIGH</td>\n",
       "      <td>0.0</td>\n",
       "      <td>0</td>\n",
       "    </tr>\n",
       "    <tr>\n",
       "      <th>6</th>\n",
       "      <td>LOW</td>\n",
       "      <td>1.0</td>\n",
       "      <td>0</td>\n",
       "    </tr>\n",
       "    <tr>\n",
       "      <th>7</th>\n",
       "      <td>LOW</td>\n",
       "      <td>0.0</td>\n",
       "      <td>0</td>\n",
       "    </tr>\n",
       "    <tr>\n",
       "      <th>8</th>\n",
       "      <td>LOW</td>\n",
       "      <td>1.0</td>\n",
       "      <td>1</td>\n",
       "    </tr>\n",
       "    <tr>\n",
       "      <th>9</th>\n",
       "      <td>MEDIUM</td>\n",
       "      <td>2.0</td>\n",
       "      <td>1</td>\n",
       "    </tr>\n",
       "  </tbody>\n",
       "</table>\n",
       "</div>"
      ],
      "text/plain": [
       "  temperature  skipped_beat  at_risk\n",
       "0         LOW           NaN        1\n",
       "1        HIGH           1.0        1\n",
       "2        HIGH           2.0        1\n",
       "3         LOW           1.0        1\n",
       "4        HIGH           0.0        0\n",
       "5        HIGH           0.0        0\n",
       "6         LOW           1.0        0\n",
       "7         LOW           0.0        0\n",
       "8         LOW           1.0        1\n",
       "9      MEDIUM           2.0        1"
      ]
     },
     "execution_count": 8,
     "metadata": {},
     "output_type": "execute_result"
    }
   ],
   "source": [
    "# Visualizing the content\n",
    "df_basic_data(df_2018_07_01)\n",
    "df_2018_07_01"
   ]
  },
  {
   "cell_type": "code",
   "execution_count": 9,
   "metadata": {},
   "outputs": [
    {
     "name": "stdout",
     "output_type": "stream",
     "text": [
      "Dataframe length: 10 \n",
      "\n",
      "Dataframe columns names and data types:\n",
      "temperature      object\n",
      "at_risk           int64\n",
      "skipped_beat    float64\n",
      "price           float64 \n",
      "\n",
      "Amount of NaN entries for each column:\n",
      "temperature     0\n",
      "at_risk         0\n",
      "skipped_beat    2\n",
      "price           0 \n",
      "\n"
     ]
    }
   ],
   "source": [
    "# Fetching another CSV file and visualizing basic dataframe characteristics\n",
    "df_2018_08_31 = CSV_to_Pandas('data/2018-08-31.csv', 'df_2018_08_31')\n",
    "df_basic_data(df_2018_08_31)"
   ]
  },
  {
   "cell_type": "code",
   "execution_count": 10,
   "metadata": {},
   "outputs": [
    {
     "data": {
      "text/html": [
       "<div>\n",
       "<style scoped>\n",
       "    .dataframe tbody tr th:only-of-type {\n",
       "        vertical-align: middle;\n",
       "    }\n",
       "\n",
       "    .dataframe tbody tr th {\n",
       "        vertical-align: top;\n",
       "    }\n",
       "\n",
       "    .dataframe thead th {\n",
       "        text-align: right;\n",
       "    }\n",
       "</style>\n",
       "<table border=\"1\" class=\"dataframe\">\n",
       "  <thead>\n",
       "    <tr style=\"text-align: right;\">\n",
       "      <th></th>\n",
       "      <th>temperature</th>\n",
       "      <th>at_risk</th>\n",
       "      <th>skipped_beat</th>\n",
       "      <th>price</th>\n",
       "    </tr>\n",
       "  </thead>\n",
       "  <tbody>\n",
       "    <tr>\n",
       "      <th>0</th>\n",
       "      <td>MEDIUM</td>\n",
       "      <td>1</td>\n",
       "      <td>0.0</td>\n",
       "      <td>9158.897271</td>\n",
       "    </tr>\n",
       "    <tr>\n",
       "      <th>1</th>\n",
       "      <td>HIGH</td>\n",
       "      <td>1</td>\n",
       "      <td>0.0</td>\n",
       "      <td>13119.380152</td>\n",
       "    </tr>\n",
       "    <tr>\n",
       "      <th>2</th>\n",
       "      <td>LOW</td>\n",
       "      <td>1</td>\n",
       "      <td>1.0</td>\n",
       "      <td>39751.189729</td>\n",
       "    </tr>\n",
       "    <tr>\n",
       "      <th>3</th>\n",
       "      <td>HIGH</td>\n",
       "      <td>1</td>\n",
       "      <td>2.0</td>\n",
       "      <td>35010.426548</td>\n",
       "    </tr>\n",
       "    <tr>\n",
       "      <th>4</th>\n",
       "      <td>LOW</td>\n",
       "      <td>1</td>\n",
       "      <td>1.0</td>\n",
       "      <td>21199.899382</td>\n",
       "    </tr>\n",
       "    <tr>\n",
       "      <th>5</th>\n",
       "      <td>LOW</td>\n",
       "      <td>0</td>\n",
       "      <td>NaN</td>\n",
       "      <td>8633.319370</td>\n",
       "    </tr>\n",
       "    <tr>\n",
       "      <th>6</th>\n",
       "      <td>LOW</td>\n",
       "      <td>1</td>\n",
       "      <td>0.0</td>\n",
       "      <td>206014.060966</td>\n",
       "    </tr>\n",
       "    <tr>\n",
       "      <th>7</th>\n",
       "      <td>LOW</td>\n",
       "      <td>0</td>\n",
       "      <td>NaN</td>\n",
       "      <td>204228.367452</td>\n",
       "    </tr>\n",
       "    <tr>\n",
       "      <th>8</th>\n",
       "      <td>LOW</td>\n",
       "      <td>1</td>\n",
       "      <td>2.0</td>\n",
       "      <td>28772.568787</td>\n",
       "    </tr>\n",
       "    <tr>\n",
       "      <th>9</th>\n",
       "      <td>LOW</td>\n",
       "      <td>0</td>\n",
       "      <td>0.0</td>\n",
       "      <td>2203.230279</td>\n",
       "    </tr>\n",
       "  </tbody>\n",
       "</table>\n",
       "</div>"
      ],
      "text/plain": [
       "  temperature  at_risk  skipped_beat          price\n",
       "0      MEDIUM        1           0.0    9158.897271\n",
       "1        HIGH        1           0.0   13119.380152\n",
       "2         LOW        1           1.0   39751.189729\n",
       "3        HIGH        1           2.0   35010.426548\n",
       "4         LOW        1           1.0   21199.899382\n",
       "5         LOW        0           NaN    8633.319370\n",
       "6         LOW        1           0.0  206014.060966\n",
       "7         LOW        0           NaN  204228.367452\n",
       "8         LOW        1           2.0   28772.568787\n",
       "9         LOW        0           0.0    2203.230279"
      ]
     },
     "execution_count": 10,
     "metadata": {},
     "output_type": "execute_result"
    }
   ],
   "source": [
    "# Visualizing the all content\n",
    "df_2018_08_31"
   ]
  },
  {
   "cell_type": "code",
   "execution_count": 11,
   "metadata": {},
   "outputs": [],
   "source": [
    "# Fetching the rest of the data\n",
    "\n",
    "# Generating a list of dates covering the full list of available test CSV files\n",
    "dates = date_generator('01-07-2018', '12-12-2018')\n",
    "# Initializing an empty dataframe to contain the result\n",
    "complete_df = pd.DataFrame()\n",
    "# Iterating through all the CSV files\n",
    "for date in dates:\n",
    "    # Reading the CSV file and copying it into a dataframe\n",
    "    df = CSV_to_Pandas(\"data/{}.csv\".format(date), 'df')\n",
    "    # Appending the dataframe to the result dataframe\n",
    "    # 'sort=True' is necessary since the columns are not always in the same order\n",
    "    complete_df = complete_df.append(df, sort=True, ignore_index = True)"
   ]
  },
  {
   "cell_type": "code",
   "execution_count": 12,
   "metadata": {},
   "outputs": [
    {
     "name": "stdout",
     "output_type": "stream",
     "text": [
      "Dataframe length: 1650 \n",
      "\n",
      "Dataframe columns names and data types:\n",
      "at_risk           int64\n",
      "price           float64\n",
      "skipped_beat    float64\n",
      "temperature      object \n",
      "\n",
      "Visualizing the content of the first 5 rows:\n",
      "   at_risk  price  skipped_beat temperature\n",
      "0        1    NaN           NaN         LOW\n",
      "1        1    NaN           1.0        HIGH\n",
      "2        1    NaN           2.0        HIGH\n",
      "3        1    NaN           1.0         LOW\n",
      "4        0    NaN           0.0        HIGH \n",
      "\n",
      "Amount of NaN entries for each column:\n",
      "at_risk           0\n",
      "price           610\n",
      "skipped_beat     98\n",
      "temperature       0 \n",
      "\n"
     ]
    }
   ],
   "source": [
    "# Visualizing basic dataframe characteristics of the complete dataframe\n",
    "df_basic_data(complete_df, True)"
   ]
  },
  {
   "cell_type": "code",
   "execution_count": 13,
   "metadata": {},
   "outputs": [
    {
     "name": "stdout",
     "output_type": "stream",
     "text": [
      "Dataframe length: 1650 \n",
      "\n",
      "Dataframe columns names and data types:\n",
      "at_risk             bool\n",
      "price            float64\n",
      "skipped_beat     float64\n",
      "temperature     category \n",
      "\n",
      "Amount of NaN entries for each column:\n",
      "at_risk           0\n",
      "price           610\n",
      "skipped_beat     98\n",
      "temperature       0 \n",
      "\n"
     ]
    }
   ],
   "source": [
    "# Changing the variables' datatypes\n",
    "complete_df['temperature'] = complete_df['temperature'].astype('category')\n",
    "complete_df['at_risk'] = complete_df['at_risk'].astype('bool')\n",
    "df_basic_data(complete_df, False)"
   ]
  },
  {
   "cell_type": "code",
   "execution_count": 14,
   "metadata": {},
   "outputs": [
    {
     "name": "stdout",
     "output_type": "stream",
     "text": [
      "column name:  at_risk\n",
      "column datatype:  bool\n",
      "values count:\n",
      "True     826\n",
      "False    824 \n",
      "\n",
      "column name:  skipped_beat\n",
      "column datatype:  float64\n",
      "values count:\n",
      "1.0    475\n",
      "0.0    401\n",
      "2.0    321\n",
      "3.0    188\n",
      "4.0    100\n",
      "5.0     45\n",
      "6.0     20\n",
      "7.0      2 \n",
      "\n",
      "column name:  temperature\n",
      "column datatype:  category\n",
      "values count:\n",
      "LOW       574\n",
      "MEDIUM    540\n",
      "HIGH      536 \n",
      "\n"
     ]
    }
   ],
   "source": [
    "# Checking the occurrencies of each value for each column except for 'price'\n",
    "show_value_counts(complete_df, 'price')"
   ]
  },
  {
   "cell_type": "code",
   "execution_count": 15,
   "metadata": {},
   "outputs": [
    {
     "name": "stdout",
     "output_type": "stream",
     "text": [
      "\n",
      "Handling entries from 0 to 50\n",
      "    at_risk  price  skipped_beat temperature\n",
      "0      True    NaN           NaN         LOW\n",
      "1      True    NaN           1.0        HIGH\n",
      "2      True    NaN           2.0        HIGH\n",
      "3      True    NaN           1.0         LOW\n",
      "4     False    NaN           0.0        HIGH\n",
      "5     False    NaN           0.0        HIGH\n",
      "6     False    NaN           1.0         LOW\n",
      "7     False    NaN           0.0         LOW\n",
      "8      True    NaN           1.0         LOW\n",
      "9      True    NaN           2.0      MEDIUM\n",
      "10    False    NaN           3.0         LOW\n",
      "11     True    NaN           0.0        HIGH\n",
      "12     True    NaN           1.0         LOW\n",
      "13    False    NaN           0.0      MEDIUM\n",
      "14     True    NaN           2.0        HIGH\n",
      "15    False    NaN           3.0      MEDIUM\n",
      "16     True    NaN           3.0      MEDIUM\n",
      "17     True    NaN           1.0         LOW\n",
      "18     True    NaN           2.0         LOW\n",
      "19    False    NaN           2.0        HIGH\n",
      "20     True    NaN           4.0      MEDIUM\n",
      "21     True    NaN           3.0        HIGH\n",
      "22     True    NaN           2.0        HIGH\n",
      "23    False    NaN           1.0        HIGH\n",
      "24     True    NaN           1.0         LOW\n",
      "25    False    NaN           1.0         LOW\n",
      "26    False    NaN           2.0         LOW\n",
      "27    False    NaN           1.0         LOW\n",
      "28    False    NaN           0.0         LOW\n",
      "29    False    NaN           0.0        HIGH\n",
      "30     True    NaN           0.0         LOW\n",
      "31     True    NaN           1.0         LOW\n",
      "32    False    NaN           2.0      MEDIUM\n",
      "33     True    NaN           0.0        HIGH\n",
      "34     True    NaN           3.0        HIGH\n",
      "35     True    NaN           1.0        HIGH\n",
      "36     True    NaN           2.0        HIGH\n",
      "37    False    NaN           1.0      MEDIUM\n",
      "38     True    NaN           1.0      MEDIUM\n",
      "39     True    NaN           2.0        HIGH\n",
      "40    False    NaN           0.0         LOW\n",
      "41    False    NaN           NaN         LOW\n",
      "42     True    NaN           0.0         LOW\n",
      "43     True    NaN           1.0         LOW\n",
      "44     True    NaN           0.0      MEDIUM\n",
      "45    False    NaN           NaN        HIGH\n",
      "46     True    NaN           1.0      MEDIUM\n",
      "47     True    NaN           NaN        HIGH\n",
      "48     True    NaN           1.0         LOW\n",
      "49    False    NaN           2.0        HIGH\n",
      "Enter '1' if you want to see more entries\n",
      "Type any other (or no key at all) and then press Enter to quit\n",
      "\n"
     ]
    }
   ],
   "source": [
    "# Running a quick visual check on the all dataset\n",
    "visualize_df(complete_df)"
   ]
  },
  {
   "cell_type": "code",
   "execution_count": 16,
   "metadata": {},
   "outputs": [
    {
     "name": "stdout",
     "output_type": "stream",
     "text": [
      "Dataframe length: 1650 \n",
      "\n",
      "Dataframe columns names and data types:\n",
      "at_risk             bool\n",
      "price             object\n",
      "skipped_beat      object\n",
      "temperature     category \n",
      "\n",
      "Visualizing the content of the first 5 rows:\n",
      "   at_risk price skipped_beat temperature\n",
      "0     True  None         None         LOW\n",
      "1     True  None            1        HIGH\n",
      "2     True  None            2        HIGH\n",
      "3     True  None            1         LOW\n",
      "4    False  None            0        HIGH \n",
      "\n",
      "Amount of NaN entries for each column:\n",
      "at_risk           0\n",
      "price           610\n",
      "skipped_beat     98\n",
      "temperature       0 \n",
      "\n"
     ]
    }
   ],
   "source": [
    "# Changing 'NaN' into 'None' for compatibility with MySQL\n",
    "sql_ready_df = complete_df.where((pd.notnull(complete_df)), None)\n",
    "df_basic_data(sql_ready_df, True)"
   ]
  },
  {
   "cell_type": "markdown",
   "metadata": {},
   "source": [
    "### 1.4. Fetching Some Aggregate Values Useful for Testing <a name=\"1.4.\"></a>"
   ]
  },
  {
   "cell_type": "code",
   "execution_count": 17,
   "metadata": {},
   "outputs": [
    {
     "name": "stdout",
     "output_type": "stream",
     "text": [
      "Dataframe length: 1040 \n",
      "\n",
      "Dataframe columns names and data types:\n",
      "temperature    category\n",
      "price           float64 \n",
      "\n",
      "Visualizing the content of the first 5 rows:\n",
      "    temperature         price\n",
      "610      MEDIUM   9158.897271\n",
      "611        HIGH  13119.380152\n",
      "612         LOW  39751.189729\n",
      "613        HIGH  35010.426548\n",
      "614         LOW  21199.899382 \n",
      "\n",
      "Amount of NaN entries for each column:\n",
      "temperature    0\n",
      "price          0 \n",
      "\n"
     ]
    }
   ],
   "source": [
    "# Eliminating entries having null prices\n",
    "clean_df = complete_df.loc[:, ['temperature', 'price']].dropna()\n",
    "df_basic_data(clean_df , True)"
   ]
  },
  {
   "cell_type": "code",
   "execution_count": 18,
   "metadata": {},
   "outputs": [
    {
     "data": {
      "text/html": [
       "<div>\n",
       "<style scoped>\n",
       "    .dataframe tbody tr th:only-of-type {\n",
       "        vertical-align: middle;\n",
       "    }\n",
       "\n",
       "    .dataframe tbody tr th {\n",
       "        vertical-align: top;\n",
       "    }\n",
       "\n",
       "    .dataframe thead th {\n",
       "        text-align: right;\n",
       "    }\n",
       "</style>\n",
       "<table border=\"1\" class=\"dataframe\">\n",
       "  <thead>\n",
       "    <tr style=\"text-align: right;\">\n",
       "      <th></th>\n",
       "      <th>mean_price</th>\n",
       "    </tr>\n",
       "    <tr>\n",
       "      <th>temperature</th>\n",
       "      <th></th>\n",
       "    </tr>\n",
       "  </thead>\n",
       "  <tbody>\n",
       "    <tr>\n",
       "      <th>HIGH</th>\n",
       "      <td>37697.317426</td>\n",
       "    </tr>\n",
       "    <tr>\n",
       "      <th>LOW</th>\n",
       "      <td>37569.445257</td>\n",
       "    </tr>\n",
       "    <tr>\n",
       "      <th>MEDIUM</th>\n",
       "      <td>29441.747247</td>\n",
       "    </tr>\n",
       "  </tbody>\n",
       "</table>\n",
       "</div>"
      ],
      "text/plain": [
       "               mean_price\n",
       "temperature              \n",
       "HIGH         37697.317426\n",
       "LOW          37569.445257\n",
       "MEDIUM       29441.747247"
      ]
     },
     "execution_count": 18,
     "metadata": {},
     "output_type": "execute_result"
    }
   ],
   "source": [
    "# Selecting the last 300 entries\n",
    "# Grouping by temperature and calculating the mean price\n",
    "# Showing it in the column mean_price\n",
    "aggregate_df = clean_df.tail(300).groupby(['temperature']).mean().rename(columns={'price': 'mean_price'})\n",
    "aggregate_df"
   ]
  },
  {
   "cell_type": "code",
   "execution_count": 19,
   "metadata": {},
   "outputs": [
    {
     "name": "stdout",
     "output_type": "stream",
     "text": [
      "Dataframe length: 640 \n",
      "\n",
      "Dataframe columns names and data types:\n",
      "at_risk           int64\n",
      "price           float64\n",
      "skipped_beat    float64\n",
      "temperature      object \n",
      "\n",
      "Amount of NaN entries for each column:\n",
      "at_risk           0\n",
      "price           610\n",
      "skipped_beat     46\n",
      "temperature       0 \n",
      "\n"
     ]
    }
   ],
   "source": [
    "# Fetching a subset of the data covering all the days till September 2nd\n",
    "\n",
    "# Generating a list of dates covering the full list of available test CSV files\n",
    "dates = date_generator('01-07-2018', '02-09-2018')\n",
    "# Initializing an empty dataframe to contain the result\n",
    "partial_df = pd.DataFrame()\n",
    "# Iterating through all the CSV files\n",
    "for date in dates:\n",
    "    # Reading the CSV file and copying it into a dataframe\n",
    "    df = CSV_to_Pandas(\"data/{}.csv\".format(date), 'df')\n",
    "    # Appending the dataframe to the result dataframe\n",
    "    # 'sort=True' is necessary since the columns are not always in the same order\n",
    "    partial_df = partial_df.append(df, sort=True, ignore_index = True)\n",
    "# Vsualizing   \n",
    "df_basic_data(partial_df, False)"
   ]
  },
  {
   "cell_type": "code",
   "execution_count": 20,
   "metadata": {},
   "outputs": [
    {
     "data": {
      "text/html": [
       "<div>\n",
       "<style scoped>\n",
       "    .dataframe tbody tr th:only-of-type {\n",
       "        vertical-align: middle;\n",
       "    }\n",
       "\n",
       "    .dataframe tbody tr th {\n",
       "        vertical-align: top;\n",
       "    }\n",
       "\n",
       "    .dataframe thead th {\n",
       "        text-align: right;\n",
       "    }\n",
       "</style>\n",
       "<table border=\"1\" class=\"dataframe\">\n",
       "  <thead>\n",
       "    <tr style=\"text-align: right;\">\n",
       "      <th></th>\n",
       "      <th>mean_price</th>\n",
       "    </tr>\n",
       "    <tr>\n",
       "      <th>temperature</th>\n",
       "      <th></th>\n",
       "    </tr>\n",
       "  </thead>\n",
       "  <tbody>\n",
       "    <tr>\n",
       "      <th>HIGH</th>\n",
       "      <td>20359.376878</td>\n",
       "    </tr>\n",
       "    <tr>\n",
       "      <th>LOW</th>\n",
       "      <td>107378.899714</td>\n",
       "    </tr>\n",
       "    <tr>\n",
       "      <th>MEDIUM</th>\n",
       "      <td>38763.760778</td>\n",
       "    </tr>\n",
       "  </tbody>\n",
       "</table>\n",
       "</div>"
      ],
      "text/plain": [
       "                mean_price\n",
       "temperature               \n",
       "HIGH          20359.376878\n",
       "LOW          107378.899714\n",
       "MEDIUM        38763.760778"
      ]
     },
     "execution_count": 20,
     "metadata": {},
     "output_type": "execute_result"
    }
   ],
   "source": [
    "# Eliminating entries having null prices\n",
    "clean_part_df = partial_df.loc[:, ['temperature', 'price']].dropna()\n",
    "# Selecting the last 300 entries\n",
    "# Grouping by temperature and calculating the mean price\n",
    "# Showing it in the column mean_price\n",
    "aggr_part_df= clean_part_df.tail(300).groupby(['temperature']).mean().rename(columns={'price': 'mean_price'})\n",
    "aggr_part_df"
   ]
  },
  {
   "cell_type": "markdown",
   "metadata": {},
   "source": [
    "### 1.5. Conclusions <a name=\"1.5.\"></a>"
   ]
  },
  {
   "cell_type": "markdown",
   "metadata": {},
   "source": [
    "Each file contains 10 entries.\n",
    "\n",
    "The column temperature contains categorical data (LOW, MEDIUM, HIGH) (text to be converted into category).\n",
    "\n",
    "The column skipped_beat contains integer kind of data with values from 0 to 7.\n",
    "\n",
    "The column at_risk contains integer numbers from 0 to 1 (that could be converted to boolean).\n",
    "\n",
    "The column price contains decimal data.\n",
    "\n",
    "The columns are not always in the same order in the origin files and in certain files some column (like the column price) is missing.\n",
    "\n",
    "All together there are 610 entries with missing price value and 98 entries with missing skipped_beat value.\n",
    "\n",
    "There seem to be no other reason for data cleaning."
   ]
  },
  {
   "cell_type": "markdown",
   "metadata": {},
   "source": [
    "---\n",
    "<sub>Linux Ubuntu 18.04</sub><br>\n",
    "<sub>Jupyter Notebook server 6.0.1</sub><br>\n",
    "<sub>Python 3.6.8</sub><br>\n",
    "<sub>numpy 1.17.3</sub><br>\n",
    "<sub>pandas 0.25.2</sub><br>"
   ]
  }
 ],
 "metadata": {
  "kernelspec": {
   "display_name": "Python 3",
   "language": "python",
   "name": "python3"
  },
  "language_info": {
   "codemirror_mode": {
    "name": "ipython",
    "version": 3
   },
   "file_extension": ".py",
   "mimetype": "text/x-python",
   "name": "python",
   "nbconvert_exporter": "python",
   "pygments_lexer": "ipython3",
   "version": "3.6.9"
  },
  "varInspector": {
   "cols": {
    "lenName": 16,
    "lenType": 16,
    "lenVar": 40
   },
   "kernels_config": {
    "python": {
     "delete_cmd_postfix": "",
     "delete_cmd_prefix": "del ",
     "library": "var_list.py",
     "varRefreshCmd": "print(var_dic_list())"
    },
    "r": {
     "delete_cmd_postfix": ") ",
     "delete_cmd_prefix": "rm(",
     "library": "var_list.r",
     "varRefreshCmd": "cat(var_dic_list()) "
    }
   },
   "position": {
    "height": "144.85px",
    "left": "633px",
    "right": "20px",
    "top": "120px",
    "width": "349px"
   },
   "types_to_exclude": [
    "module",
    "function",
    "builtin_function_or_method",
    "instance",
    "_Feature"
   ],
   "window_display": false
  }
 },
 "nbformat": 4,
 "nbformat_minor": 2
}
